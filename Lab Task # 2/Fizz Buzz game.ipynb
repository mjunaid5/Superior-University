{
 "cells": [
  {
   "cell_type": "code",
   "execution_count": null,
   "id": "e3a4e248-872a-4d4b-9473-747fde21f104",
   "metadata": {},
   "outputs": [],
   "source": [
    "def fizzbuzz(number):\n",
    "   \n",
    "    for num in range(1, number + 1):\n",
    "        if num % 3 == 0 and num % 5 == 0:\n",
    "            print(\"FizzBuzz\")\n",
    "        elif num % 3 == 0:\n",
    "            print(\"Fizz\")\n",
    "        elif num % 5 == 0:\n",
    "            print(\"Buzz\")\n",
    "        else:\n",
    "            print(num)\n",
    "\n",
    "# Get user input for the upper limit\n",
    "try:\n",
    "    number = int(input(\"Enter the upper limit for the FizzBuzz game: \"))\n",
    "    if number <= 0:\n",
    "        print(\"Please enter a positive integer.\")\n",
    "    else:\n",
    "        fizzbuzz(number)\n",
    "except ValueError:\n",
    "    print(\"Invalid input. Please enter a positive integer.\")"
   ]
  }
 ],
 "metadata": {
  "kernelspec": {
   "display_name": "Python 3 (ipykernel)",
   "language": "python",
   "name": "python3"
  },
  "language_info": {
   "codemirror_mode": {
    "name": "ipython",
    "version": 3
   },
   "file_extension": ".py",
   "mimetype": "text/x-python",
   "name": "python",
   "nbconvert_exporter": "python",
   "pygments_lexer": "ipython3",
   "version": "3.12.4"
  }
 },
 "nbformat": 4,
 "nbformat_minor": 5
}
