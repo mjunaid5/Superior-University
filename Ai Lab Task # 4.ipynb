{
 "cells": [
  {
   "cell_type": "code",
   "execution_count": 4,
   "id": "69292084-5325-4dc6-b1b9-8becf4e721fc",
   "metadata": {},
   "outputs": [],
   "source": [
    "def luhn_check(card_number):\n",
    "    \"\"\"Checks if a card number is valid using the Luhn algorithm.\n",
    "\n",
    "    Args:\n",
    "        card_number: The card number to check.\n",
    "\n",
    "    Returns:\n",
    "        True if the card number is valid, False otherwise.\n",
    "    \"\"\"\n",
    "\n",
    "    # Reverse the card number\n",
    "    reversed_number = card_number[::-1]\n",
    "\n",
    "    # Calculate the sum of digits, alternating between doubling and not doubling\n",
    "    sum_of_digits = 0\n",
    "    for i, digit in enumerate(reversed_number):\n",
    "        digit = int(digit)\n",
    "        if i % 2 == 0:\n",
    "            sum_of_digits += digit\n",
    "        else:\n",
    "            doubled_digit = digit * 2\n",
    "            if doubled_digit > 9:\n",
    "                doubled_digit -= 9\n",
    "            sum_of_digits += doubled_digit\n",
    "\n",
    "    # Check if the sum is divisible by 10\n",
    "    return sum_of_digits % 10 == 0"
   ]
  },
  {
   "cell_type": "code",
   "execution_count": 10,
   "id": "078625c1-29a5-4f97-a52f-7721dad67f91",
   "metadata": {},
   "outputs": [],
   "source": [
    "###TAsk 2\n",
    "def remove_punctuation(string):\n",
    "    \"\"\"Removes punctuation characters from a string.\n",
    "\n",
    "    Args:\n",
    "        string: The input string.\n",
    "\n",
    "    Returns:\n",
    "        The string without punctuation.\n",
    "    \"\"\"\n",
    "\n",
    "    punctuation_chars = \"!@#$%^&*()_+-=[]{}|;':\\\",./<>?\"\n",
    "    result = \"\"\n",
    "    for char in string:\n",
    "        if char not in punctuation_chars:\n",
    "            result += char\n",
    "    return result     "
   ]
  },
  {
   "cell_type": "code",
   "execution_count": 2,
   "id": "8d20dc91-392b-4d77-a8dc-f6322df1b032",
   "metadata": {},
   "outputs": [],
   "source": [
    "###TASK 3\n",
    "def sort_words(text):\n",
    "\n",
    "    words = text.split()\n",
    "    sorted_words = []\n",
    "    while words:\n",
    "        min_word = words[0]\n",
    "        min_index = 0\n",
    "        for i in range(1, len(words)):\n",
    "            if words[i] < min_word:\n",
    "                min_word = words[i]\n",
    "                min_index = i\n",
    "        sorted_words.append(min_word)\n",
    "        words.pop(min_index)\n",
    "    return sorted_words"
   ]
  },
  {
   "cell_type": "code",
   "execution_count": 6,
   "id": "81a34834-b959-4335-a222-2c53b2005f21",
   "metadata": {},
   "outputs": [],
   "source": []
  },
  {
   "cell_type": "code",
   "execution_count": null,
   "id": "68442360-567b-455c-9ed0-25c52353eaae",
   "metadata": {},
   "outputs": [],
   "source": []
  }
 ],
 "metadata": {
  "kernelspec": {
   "display_name": "Python 3 (ipykernel)",
   "language": "python",
   "name": "python3"
  },
  "language_info": {
   "codemirror_mode": {
    "name": "ipython",
    "version": 3
   },
   "file_extension": ".py",
   "mimetype": "text/x-python",
   "name": "python",
   "nbconvert_exporter": "python",
   "pygments_lexer": "ipython3",
   "version": "3.12.4"
  }
 },
 "nbformat": 4,
 "nbformat_minor": 5
}
