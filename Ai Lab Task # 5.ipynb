{
 "cells": [
  {
   "cell_type": "code",
   "execution_count": 1,
   "id": "32060492-ff78-4267-b0af-a05088e06928",
   "metadata": {},
   "outputs": [
    {
     "name": "stdout",
     "output_type": "stream",
     "text": [
      "{'A': ['B', 'C'], 'B': ['D', 'E'], 'C': ['F', 'G'], 'D': [], 'E': [], 'F': [], 'G': []}\n"
     ]
    }
   ],
   "source": [
    "tree = {\n",
    "    'A' : ['B' ,'C'],\n",
    "    'B' : ['D' ,'E'],\n",
    "    'C' : ['F' ,'G'],\n",
    "    'D' : [],\n",
    "    'E' : [],\n",
    "    'F' : [],\n",
    "    'G' : [],\n",
    "    \n",
    "}\n",
    "print(tree)"
   ]
  },
  {
   "cell_type": "code",
   "execution_count": 5,
   "id": "66b834e4-faeb-4d86-a4e9-83f58ca2d4b7",
   "metadata": {},
   "outputs": [
    {
     "name": "stdout",
     "output_type": "stream",
     "text": [
      "Path found: ['A', 'C', 'G']\n"
     ]
    }
   ],
   "source": [
    "tree = {\n",
    "    'A': ['B', 'C'],\n",
    "    'B': ['D', 'E'],\n",
    "    'C': ['F', 'G'],\n",
    "    'D': [],\n",
    "    'E': [],\n",
    "    'F': [],\n",
    "    'G': [],\n",
    "}\n",
    "\n",
    "def dfs(graph, start, goal):\n",
    "    visited = set()\n",
    "    parent = {}\n",
    "\n",
    "    def dfs_recursive(node):\n",
    "        if node == goal:\n",
    "            return True\n",
    "\n",
    "        visited.add(node)\n",
    "        for neighbor in graph[node]:\n",
    "            if neighbor not in visited:\n",
    "                parent[neighbor] = node\n",
    "                if dfs_recursive(neighbor):\n",
    "                    return True\n",
    "        return False\n",
    "\n",
    "    if dfs_recursive(start):\n",
    "        return reconstruct_path(parent, start, goal)\n",
    "    else:\n",
    "        return None\n",
    "\n",
    "def reconstruct_path(parent, start, goal):\n",
    "    path = []\n",
    "    current = goal\n",
    "    while current != start:\n",
    "        path.append(current)\n",
    "        current = parent[current]\n",
    "    path.append(start)\n",
    "    return path[::-1]\n",
    "start = 'A'\n",
    "goal = 'G'\n",
    "path = dfs(tree, start, goal)\n",
    "if path:\n",
    "    print(\"Path found:\", path)\n",
    "else:\n",
    "    print(\"No path found.\")"
   ]
  },
  {
   "cell_type": "code",
   "execution_count": null,
   "id": "2545ae5f-7533-4f11-8bed-33582eb93cc8",
   "metadata": {},
   "outputs": [],
   "source": []
  },
  {
   "cell_type": "code",
   "execution_count": null,
   "id": "5a89de20-b1eb-4398-874d-d6ed6f086174",
   "metadata": {},
   "outputs": [],
   "source": []
  },
  {
   "cell_type": "code",
   "execution_count": null,
   "id": "3f5eac63-bbdc-426b-8b86-1c6b3d54bfa5",
   "metadata": {},
   "outputs": [],
   "source": [
    "\n",
    "    "
   ]
  },
  {
   "cell_type": "code",
   "execution_count": null,
   "id": "390afa6c-3e5a-458c-853b-90ddbd7c8660",
   "metadata": {},
   "outputs": [],
   "source": []
  },
  {
   "cell_type": "code",
   "execution_count": null,
   "id": "8417f077-c082-4933-a90d-a9b581520bce",
   "metadata": {},
   "outputs": [],
   "source": []
  }
 ],
 "metadata": {
  "kernelspec": {
   "display_name": "Python 3 (ipykernel)",
   "language": "python",
   "name": "python3"
  },
  "language_info": {
   "codemirror_mode": {
    "name": "ipython",
    "version": 3
   },
   "file_extension": ".py",
   "mimetype": "text/x-python",
   "name": "python",
   "nbconvert_exporter": "python",
   "pygments_lexer": "ipython3",
   "version": "3.12.4"
  }
 },
 "nbformat": 4,
 "nbformat_minor": 5
}
