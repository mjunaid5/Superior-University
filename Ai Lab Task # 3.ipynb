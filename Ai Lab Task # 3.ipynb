{
 "cells": [
  {
   "cell_type": "code",
   "execution_count": 2,
   "id": "ab16a46d-4ce6-473e-953c-3efa92dff241",
   "metadata": {},
   "outputs": [
    {
     "ename": "AttributeError",
     "evalue": "'SimpleReflexAgent' object has no attribute 'desired_temp'",
     "output_type": "error",
     "traceback": [
      "\u001b[1;31m---------------------------------------------------------------------------\u001b[0m",
      "\u001b[1;31mAttributeError\u001b[0m                            Traceback (most recent call last)",
      "Cell \u001b[1;32mIn[2], line 25\u001b[0m\n\u001b[0;32m     23\u001b[0m \u001b[38;5;28;01mfor\u001b[39;00m room_name, temp \u001b[38;5;129;01min\u001b[39;00m room\u001b[38;5;241m.\u001b[39mitems():\n\u001b[0;32m     24\u001b[0m     agent\u001b[38;5;241m.\u001b[39mpercept(temp) \n\u001b[1;32m---> 25\u001b[0m     \u001b[38;5;28mprint\u001b[39m(\u001b[38;5;124mf\u001b[39m\u001b[38;5;124m\"\u001b[39m\u001b[38;5;132;01m{\u001b[39;00mroom_name\u001b[38;5;132;01m}\u001b[39;00m\u001b[38;5;124m (Temp: \u001b[39m\u001b[38;5;132;01m{\u001b[39;00mtemp\u001b[38;5;132;01m}\u001b[39;00m\u001b[38;5;124m) ==> \u001b[39m\u001b[38;5;132;01m{\u001b[39;00m\u001b[43magent\u001b[49m\u001b[38;5;241;43m.\u001b[39;49m\u001b[43mact\u001b[49m\u001b[43m(\u001b[49m\u001b[43m)\u001b[49m\u001b[38;5;132;01m}\u001b[39;00m\u001b[38;5;124m\"\u001b[39m)\n",
      "Cell \u001b[1;32mIn[2], line 9\u001b[0m, in \u001b[0;36mSimpleReflexAgent.act\u001b[1;34m(self)\u001b[0m\n\u001b[0;32m      8\u001b[0m \u001b[38;5;28;01mdef\u001b[39;00m \u001b[38;5;21mact\u001b[39m(\u001b[38;5;28mself\u001b[39m):\n\u001b[1;32m----> 9\u001b[0m     \u001b[38;5;28;01mif\u001b[39;00m \u001b[38;5;28mself\u001b[39m\u001b[38;5;241m.\u001b[39mcurrent_temp \u001b[38;5;241m>\u001b[39m \u001b[38;5;28;43mself\u001b[39;49m\u001b[38;5;241;43m.\u001b[39;49m\u001b[43mdesired_temp\u001b[49m:\n\u001b[0;32m     10\u001b[0m         \u001b[38;5;28;01mreturn\u001b[39;00m \u001b[38;5;124m\"\u001b[39m\u001b[38;5;124mTurn off the heater\u001b[39m\u001b[38;5;124m\"\u001b[39m\n\u001b[0;32m     11\u001b[0m     \u001b[38;5;28;01melse\u001b[39;00m:\n",
      "\u001b[1;31mAttributeError\u001b[0m: 'SimpleReflexAgent' object has no attribute 'desired_temp'"
     ]
    }
   ],
   "source": [
    "class SimpleReflexAgent:\n",
    "    def _init_(self, temp):\n",
    "        self.desired_temp = temp\n",
    "    \n",
    "    def percept(self, temp):\n",
    "        self.current_temp = temp\n",
    "    \n",
    "    def act(self):\n",
    "        if self.current_temp > self.desired_temp:\n",
    "            return \"Turn off the heater\"\n",
    "        else:\n",
    "            return \"Turn on the heater\"\n",
    "\n",
    "\n",
    "room = {\n",
    "    \"Living room\": 28,\n",
    "    \"Bed room\": 18,\n",
    "    \"Kitchen\": 32,\n",
    "}\n",
    "\n",
    "agent = SimpleReflexAgent()\n",
    "\n",
    "for room_name, temp in room.items():\n",
    "    agent.percept(temp) \n",
    "    print(f\"{room_name} (Temp: {temp}) ==> {agent.act()}\")"
   ]
  },
  {
   "cell_type": "code",
   "execution_count": null,
   "id": "a3b609e0-9162-447a-a543-d6a9a4a03f45",
   "metadata": {},
   "outputs": [],
   "source": []
  }
 ],
 "metadata": {
  "kernelspec": {
   "display_name": "Python 3 (ipykernel)",
   "language": "python",
   "name": "python3"
  },
  "language_info": {
   "codemirror_mode": {
    "name": "ipython",
    "version": 3
   },
   "file_extension": ".py",
   "mimetype": "text/x-python",
   "name": "python",
   "nbconvert_exporter": "python",
   "pygments_lexer": "ipython3",
   "version": "3.12.4"
  }
 },
 "nbformat": 4,
 "nbformat_minor": 5
}
